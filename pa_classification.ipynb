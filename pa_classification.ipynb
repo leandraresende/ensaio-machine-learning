{
 "cells": [
  {
   "cell_type": "markdown",
   "id": "300a7191-7751-4804-bd42-5e1262ee6228",
   "metadata": {},
   "source": [
    "# **Classificação**"
   ]
  },
  {
   "cell_type": "markdown",
   "id": "87062cbd-dd47-4e99-a75b-cc12f5c585bc",
   "metadata": {},
   "source": [
    "## Importando bibliotecas:"
   ]
  },
  {
   "cell_type": "code",
   "execution_count": 61,
   "id": "0a930a43-e68a-455c-9b00-d2234d01a71b",
   "metadata": {
    "tags": []
   },
   "outputs": [],
   "source": [
    "import pandas as pd\n",
    "import numpy as np\n",
    "import warnings\n",
    "warnings.filterwarnings('ignore')\n",
    "from sklearn.neighbors import KNeighborsClassifier\n",
    "from sklearn import tree as tr\n",
    "from sklearn import ensemble as en\n",
    "from sklearn import metrics as mt\n",
    "from sklearn import linear_model as lm\n",
    "from matplotlib import pyplot as plt"
   ]
  },
  {
   "cell_type": "markdown",
   "id": "8788dcd9-0761-4ede-8023-7542e0266ee0",
   "metadata": {},
   "source": [
    "## Carregando dados:"
   ]
  },
  {
   "cell_type": "code",
   "execution_count": 2,
   "id": "60e6c0f6-b5fb-4d08-abf4-3ba55a8eea7e",
   "metadata": {
    "tags": []
   },
   "outputs": [],
   "source": [
    "X_train = pd.read_csv('/Users/lehre/Desktop/CIENCIA_DADOS/ComunidadeDS/REPOS/fundamentos-ml/notebooks/projeto_aluno-ml/classificacao/X_training.csv')\n",
    "y_train = pd.read_csv('/Users/lehre/Desktop/CIENCIA_DADOS/ComunidadeDS/REPOS/fundamentos-ml/notebooks/projeto_aluno-ml/classificacao/y_training.csv')\n",
    "X_teste = pd.read_csv('/Users/lehre/Desktop/CIENCIA_DADOS/ComunidadeDS/REPOS/fundamentos-ml/notebooks/projeto_aluno-ml/classificacao/X_test.csv')\n",
    "y_teste = pd.read_csv('/Users/lehre/Desktop/CIENCIA_DADOS/ComunidadeDS/REPOS/fundamentos-ml/notebooks/projeto_aluno-ml/classificacao/y_test.csv')\n",
    "X_val = pd.read_csv('/Users/lehre/Desktop/CIENCIA_DADOS/ComunidadeDS/REPOS/fundamentos-ml/notebooks/projeto_aluno-ml/classificacao/X_validation.csv')\n",
    "y_val = pd.read_csv('/Users/lehre/Desktop/CIENCIA_DADOS/ComunidadeDS/REPOS/fundamentos-ml/notebooks/projeto_aluno-ml/classificacao/y_validation.csv')"
   ]
  },
  {
   "cell_type": "code",
   "execution_count": 3,
   "id": "15fafbc6-a752-4dfb-8002-8b312fdb3abc",
   "metadata": {
    "tags": []
   },
   "outputs": [],
   "source": [
    "# ajustando formato dos dados para que possam ser processados pelo scikit-learn\n",
    "y_train = y_train.values.ravel()\n",
    "y_teste = y_teste.values.ravel()\n",
    "y_val = y_val.values.ravel()\n",
    "\n",
    "X_train = np.asarray(X_train)\n",
    "X_teste = np.asarray(X_teste)\n",
    "X_val = np.asarray(X_val)"
   ]
  },
  {
   "cell_type": "markdown",
   "id": "2ec1ae10-c3e7-4f8a-8b89-6feb63eaae0d",
   "metadata": {},
   "source": [
    "## Funções:"
   ]
  },
  {
   "cell_type": "code",
   "execution_count": 11,
   "id": "948a6e25-873e-442a-b9a8-d912595f936e",
   "metadata": {
    "tags": []
   },
   "outputs": [],
   "source": [
    "def error(data_type, model_name, y, yhat):\n",
    "    acc = mt.accuracy_score(y, yhat)\n",
    "    precision = mt.precision_score(y, yhat)\n",
    "    recall = mt.recall_score(y, yhat)\n",
    "    f1 = mt.f1_score(y, yhat)\n",
    "    \n",
    "    return pd.DataFrame({'Data Type': data_type,\n",
    "                        'Model Name': model_name,\n",
    "                        'Accuracy': acc,\n",
    "                        'Precision': precision,\n",
    "                        'Recall': recall,\n",
    "                        'F1 Score': f1}, index=[1]).round(3)"
   ]
  },
  {
   "cell_type": "markdown",
   "id": "0a244da6-7b04-4159-b32d-4de73ca2ee93",
   "metadata": {},
   "source": [
    "# **1.0 K-Nearest Neighbors**"
   ]
  },
  {
   "cell_type": "code",
   "execution_count": 4,
   "id": "090810ee-aa7a-4e45-b551-3da461e4d2ca",
   "metadata": {
    "tags": []
   },
   "outputs": [
    {
     "data": {
      "image/png": "[encoded data removed]",
      "text/plain": [
       "<Figure size 640x480 with 1 Axes>"
      ]
     },
     "metadata": {},
     "output_type": "display_data"
    }
   ],
   "source": [
    "k_list = [3,5,7,9,11,13,15,17,19,21]\n",
    "val_score = []\n",
    "\n",
    "for k in k_list:\n",
    "    knn_classifier = KNeighborsClassifier(n_neighbors = k)\n",
    "    knn_classifier.fit(X_train, y_train)\n",
    "    y_pred_val = knn_classifier.predict(X_val)   \n",
    "    acc_val = mt.accuracy_score(y_val, y_pred_val)\n",
    "    val_score.append(acc_val)\n",
    "    \n",
    "plt.plot(k_list, val_score, '-o');"
   ]
  },
  {
   "cell_type": "code",
   "execution_count": 78,
   "id": "eba90486-6c2c-4b6a-87bb-28b11dcffd66",
   "metadata": {
    "tags": []
   },
   "outputs": [
    {
     "data": {
      "text/html": [
       "<div>\n",
       "<style scoped>\n",
       "    .dataframe tbody tr th:only-of-type {\n",
       "        vertical-align: middle;\n",
       "    }\n",
       "\n",
       "    .dataframe tbody tr th {\n",
       "        vertical-align: top;\n",
       "    }\n",
       "\n",
       "    .dataframe thead th {\n",
       "        text-align: right;\n",
       "    }\n",
       "</style>\n",
       "<table border=\"1\" class=\"dataframe\">\n",
       "  <thead>\n",
       "    <tr style=\"text-align: right;\">\n",
       "      <th></th>\n",
       "      <th>Data Type</th>\n",
       "      <th>Model Name</th>\n",
       "      <th>Accuracy</th>\n",
       "      <th>Precision</th>\n",
       "      <th>Recall</th>\n",
       "      <th>F1 Score</th>\n",
       "    </tr>\n",
       "  </thead>\n",
       "  <tbody>\n",
       "    <tr>\n",
       "      <th>0</th>\n",
       "      <td>Training</td>\n",
       "      <td>K-Nearest Neighbors</td>\n",
       "      <td>0.832</td>\n",
       "      <td>0.812</td>\n",
       "      <td>0.797</td>\n",
       "      <td>0.805</td>\n",
       "    </tr>\n",
       "    <tr>\n",
       "      <th>1</th>\n",
       "      <td>Validation</td>\n",
       "      <td>K-Nearest Neighbors</td>\n",
       "      <td>0.676</td>\n",
       "      <td>0.628</td>\n",
       "      <td>0.621</td>\n",
       "      <td>0.625</td>\n",
       "    </tr>\n",
       "    <tr>\n",
       "      <th>2</th>\n",
       "      <td>Test</td>\n",
       "      <td>K-Nearest Neighbors</td>\n",
       "      <td>0.688</td>\n",
       "      <td>0.648</td>\n",
       "      <td>0.635</td>\n",
       "      <td>0.642</td>\n",
       "    </tr>\n",
       "  </tbody>\n",
       "</table>\n",
       "</div>"
      ],
      "text/plain": [
       "    Data Type           Model Name  Accuracy  Precision  Recall  F1 Score\n",
       "0    Training  K-Nearest Neighbors     0.832      0.812   0.797     0.805\n",
       "1  Validation  K-Nearest Neighbors     0.676      0.628   0.621     0.625\n",
       "2        Test  K-Nearest Neighbors     0.688      0.648   0.635     0.642"
      ]
     },
     "execution_count": 78,
     "metadata": {},
     "output_type": "execute_result"
    }
   ],
   "source": [
    "# sobre dados de treinamento:\n",
    "knn_classifier = KNeighborsClassifier(n_neighbors=3)\n",
    "knn_classifier.fit(X_train, y_train)\n",
    "y_pred = knn_classifier.predict(X_train)\n",
    "\n",
    "knn_error_y_pred = error('Training', 'K-Nearest Neighbors', y_train, y_pred)\n",
    "\n",
    "# sobre dados de validação:\n",
    "y_pred_val = knn_classifier.predict(X_val)\n",
    "\n",
    "knn_error_y_pred_val = error('Validation', 'K-Nearest Neighbors', y_val, y_pred_val)\n",
    "\n",
    "# sobre dados de teste:\n",
    "knn_classifier.fit(np.concatenate((X_train, X_val)),\n",
    "                   np.concatenate((y_train, y_val)))\n",
    "y_pred_teste = knn_classifier.predict(X_teste)\n",
    "\n",
    "knn_error_y_pred_teste = error('Test', 'K-Nearest Neighbors', y_teste, y_pred_teste)\n",
    "\n",
    "\n",
    "result_knn = pd.concat([knn_error_y_pred, knn_error_y_pred_val, knn_error_y_pred_teste], ignore_index=True)\n",
    "result_knn"
   ]
  },
  {
   "cell_type": "code",
   "execution_count": null,
   "id": "e14d3b25-57ee-4559-9e7d-e01e8b7a1763",
   "metadata": {},
   "outputs": [],
   "source": []
  },
  {
   "cell_type": "markdown",
   "id": "2513b8e0-3918-43db-9031-12b49af6da0f",
   "metadata": {},
   "source": [
    "# **2.0 Decision Tree**"
   ]
  },
  {
   "cell_type": "code",
   "execution_count": 55,
   "id": "3bbc2644-51b9-4afa-bfb3-a80ab6f1f3b2",
   "metadata": {
    "tags": []
   },
   "outputs": [
    {
     "data": {
      "image/png": "[encoded data removed]",
      "text/plain": [
       "<Figure size 640x480 with 1 Axes>"
      ]
     },
     "metadata": {},
     "output_type": "display_data"
    }
   ],
   "source": [
    "values = np.arange(1, 60, 1)\n",
    "val_score = []\n",
    "\n",
    "for i in values:\n",
    "    tree = tr.DecisionTreeClassifier(max_depth=i)\n",
    "    tree.fit(X_train, y_train)\n",
    "    y_pred_val = tree.predict(X_val)\n",
    "    acc_val = mt.accuracy_score(y_val, y_pred_val)\n",
    "    val_score.append(acc_val)\n",
    "\n",
    "plt.plot(values, val_score, '-o');"
   ]
  },
  {
   "cell_type": "code",
   "execution_count": 35,
   "id": "e8043605-1a28-411f-8863-5ef3130f100b",
   "metadata": {
    "tags": []
   },
   "outputs": [
    {
     "data": {
      "text/plain": [
       "13"
      ]
     },
     "execution_count": 35,
     "metadata": {},
     "output_type": "execute_result"
    }
   ],
   "source": [
    "# achando índice do valor máximo do plot:\n",
    "depth = val_score.index(max(val_score))\n",
    "depth"
   ]
  },
  {
   "cell_type": "code",
   "execution_count": 51,
   "id": "3af26e6e-6cf9-4785-8dc9-8245165e1df7",
   "metadata": {
    "tags": []
   },
   "outputs": [
    {
     "data": {
      "text/html": [
       "<div>\n",
       "<style scoped>\n",
       "    .dataframe tbody tr th:only-of-type {\n",
       "        vertical-align: middle;\n",
       "    }\n",
       "\n",
       "    .dataframe tbody tr th {\n",
       "        vertical-align: top;\n",
       "    }\n",
       "\n",
       "    .dataframe thead th {\n",
       "        text-align: right;\n",
       "    }\n",
       "</style>\n",
       "<table border=\"1\" class=\"dataframe\">\n",
       "  <thead>\n",
       "    <tr style=\"text-align: right;\">\n",
       "      <th></th>\n",
       "      <th>Data Type</th>\n",
       "      <th>Model Name</th>\n",
       "      <th>Accuracy</th>\n",
       "      <th>Precision</th>\n",
       "      <th>Recall</th>\n",
       "      <th>F1 Score</th>\n",
       "    </tr>\n",
       "  </thead>\n",
       "  <tbody>\n",
       "    <tr>\n",
       "      <th>0</th>\n",
       "      <td>Training</td>\n",
       "      <td>Decision Tree</td>\n",
       "      <td>0.974</td>\n",
       "      <td>0.982</td>\n",
       "      <td>0.959</td>\n",
       "      <td>0.970</td>\n",
       "    </tr>\n",
       "    <tr>\n",
       "      <th>1</th>\n",
       "      <td>Validation</td>\n",
       "      <td>Decision Tree</td>\n",
       "      <td>0.952</td>\n",
       "      <td>0.956</td>\n",
       "      <td>0.932</td>\n",
       "      <td>0.944</td>\n",
       "    </tr>\n",
       "    <tr>\n",
       "      <th>2</th>\n",
       "      <td>Test</td>\n",
       "      <td>Decision Tree</td>\n",
       "      <td>0.956</td>\n",
       "      <td>0.956</td>\n",
       "      <td>0.943</td>\n",
       "      <td>0.950</td>\n",
       "    </tr>\n",
       "  </tbody>\n",
       "</table>\n",
       "</div>"
      ],
      "text/plain": [
       "    Data Type     Model Name  Accuracy  Precision  Recall  F1 Score\n",
       "0    Training  Decision Tree     0.974      0.982   0.959     0.970\n",
       "1  Validation  Decision Tree     0.952      0.956   0.932     0.944\n",
       "2        Test  Decision Tree     0.956      0.956   0.943     0.950"
      ]
     },
     "execution_count": 51,
     "metadata": {},
     "output_type": "execute_result"
    }
   ],
   "source": [
    "# sobre dados de treinamento:\n",
    "tree = tr.DecisionTreeClassifier(max_depth=14)\n",
    "tree.fit(X_train, y_train)\n",
    "y_pred = tree.predict(X_train)\n",
    "\n",
    "tree_error_y_pred = error('Training', 'Decision Tree', y_train, y_pred)\n",
    "\n",
    "# sobre dados de validação:\n",
    "y_pred_val = tree.predict(X_val)\n",
    "\n",
    "tree_error_y_pred_val = error('Validation', 'Decision Tree', y_val, y_pred_val)\n",
    "\n",
    "# sobre dados de teste:\n",
    "tree.fit(np.concatenate((X_train, X_val)),\n",
    "         np.concatenate((y_train, y_val)))\n",
    "y_pred_teste = tree.predict(X_teste)\n",
    "\n",
    "tree_error_y_pred_teste = error('Test', 'Decision Tree', y_teste, y_pred_teste)\n",
    "\n",
    "\n",
    "result_tree = pd.concat([tree_error_y_pred, tree_error_y_pred_val, tree_error_y_pred_teste], ignore_index=True)\n",
    "result_tree"
   ]
  },
  {
   "cell_type": "code",
   "execution_count": null,
   "id": "e4024f89-f3ac-4cb6-9f34-b6bff6f07f5f",
   "metadata": {},
   "outputs": [],
   "source": []
  },
  {
   "cell_type": "markdown",
   "id": "260e17c8-2139-4ecd-8006-cef2eef30c51",
   "metadata": {},
   "source": [
    "# **3.0 Random Forest**"
   ]
  },
  {
   "cell_type": "code",
   "execution_count": 56,
   "id": "ebc315a5-c966-441a-b96a-f8dda5b8150f",
   "metadata": {
    "tags": []
   },
   "outputs": [
    {
     "data": {
      "image/png": "[encoded data removed]",
      "text/plain": [
       "<Figure size 640x480 with 1 Axes>"
      ]
     },
     "metadata": {},
     "output_type": "display_data"
    }
   ],
   "source": [
    "values = np.arange(1, 60, 1)\n",
    "val_score = []\n",
    "\n",
    "for i in values:\n",
    "    random = en.RandomForestClassifier(max_depth=i, random_state=0)\n",
    "    random.fit(X_train, y_train)\n",
    "    y_pred_val = random.predict(X_val)\n",
    "    acc_val = mt.accuracy_score(y_val, y_pred_val)\n",
    "    val_score.append(acc_val)\n",
    "\n",
    "plt.plot(values, val_score, '-o');"
   ]
  },
  {
   "cell_type": "code",
   "execution_count": 57,
   "id": "304c9000-c3f8-4bc4-a4fa-d16271b62287",
   "metadata": {
    "tags": []
   },
   "outputs": [
    {
     "data": {
      "image/png": "[encoded data removed]",
      "text/plain": [
       "<Figure size 640x480 with 1 Axes>"
      ]
     },
     "metadata": {},
     "output_type": "display_data"
    }
   ],
   "source": [
    "values = np.arange(1, 150, 10)\n",
    "val_score = []\n",
    "\n",
    "for i in values:\n",
    "    random = en.RandomForestClassifier(n_estimators=i, random_state=0)\n",
    "    random.fit(X_train, y_train)\n",
    "    y_pred_val = random.predict(X_val)\n",
    "    acc_val = mt.accuracy_score(y_val, y_pred_val)\n",
    "    val_score.append(acc_val)\n",
    "\n",
    "plt.plot(values, val_score, '-o');"
   ]
  },
  {
   "cell_type": "code",
   "execution_count": 59,
   "id": "26398e75-3ba8-48d0-91ec-bcaed39ad434",
   "metadata": {
    "tags": []
   },
   "outputs": [
    {
     "data": {
      "text/html": [
       "<div>\n",
       "<style scoped>\n",
       "    .dataframe tbody tr th:only-of-type {\n",
       "        vertical-align: middle;\n",
       "    }\n",
       "\n",
       "    .dataframe tbody tr th {\n",
       "        vertical-align: top;\n",
       "    }\n",
       "\n",
       "    .dataframe thead th {\n",
       "        text-align: right;\n",
       "    }\n",
       "</style>\n",
       "<table border=\"1\" class=\"dataframe\">\n",
       "  <thead>\n",
       "    <tr style=\"text-align: right;\">\n",
       "      <th></th>\n",
       "      <th>Data Type</th>\n",
       "      <th>Model Name</th>\n",
       "      <th>Accuracy</th>\n",
       "      <th>Precision</th>\n",
       "      <th>Recall</th>\n",
       "      <th>F1 Score</th>\n",
       "    </tr>\n",
       "  </thead>\n",
       "  <tbody>\n",
       "    <tr>\n",
       "      <th>0</th>\n",
       "      <td>Training</td>\n",
       "      <td>Random Forest</td>\n",
       "      <td>1.000</td>\n",
       "      <td>1.000</td>\n",
       "      <td>1.000</td>\n",
       "      <td>1.000</td>\n",
       "    </tr>\n",
       "    <tr>\n",
       "      <th>1</th>\n",
       "      <td>Validation</td>\n",
       "      <td>Random Forest</td>\n",
       "      <td>0.965</td>\n",
       "      <td>0.974</td>\n",
       "      <td>0.944</td>\n",
       "      <td>0.959</td>\n",
       "    </tr>\n",
       "    <tr>\n",
       "      <th>2</th>\n",
       "      <td>Test</td>\n",
       "      <td>Random Forest</td>\n",
       "      <td>0.965</td>\n",
       "      <td>0.973</td>\n",
       "      <td>0.946</td>\n",
       "      <td>0.959</td>\n",
       "    </tr>\n",
       "  </tbody>\n",
       "</table>\n",
       "</div>"
      ],
      "text/plain": [
       "    Data Type     Model Name  Accuracy  Precision  Recall  F1 Score\n",
       "0    Training  Random Forest     1.000      1.000   1.000     1.000\n",
       "1  Validation  Random Forest     0.965      0.974   0.944     0.959\n",
       "2        Test  Random Forest     0.965      0.973   0.946     0.959"
      ]
     },
     "execution_count": 59,
     "metadata": {},
     "output_type": "execute_result"
    }
   ],
   "source": [
    "# sobre dados de treinamento:\n",
    "random = en.RandomForestClassifier(max_depth=29, n_estimators=90, random_state=0)\n",
    "random.fit(X_train, y_train)\n",
    "y_pred = random.predict(X_train)\n",
    "\n",
    "random_error_y_pred = error('Training', 'Random Forest', y_train, y_pred)\n",
    "\n",
    "# sobre dados de validação:\n",
    "y_pred_val = random.predict(X_val)\n",
    "\n",
    "random_error_y_pred_val = error('Validation', 'Random Forest', y_val, y_pred_val)\n",
    "\n",
    "# sobre dados de teste:\n",
    "random.fit(np.concatenate((X_train, X_val)),\n",
    "           np.concatenate((y_train, y_val)))\n",
    "y_pred_teste = random.predict(X_teste)\n",
    "\n",
    "random_error_y_pred_teste = error('Test', 'Random Forest', y_teste, y_pred_teste)\n",
    "\n",
    "\n",
    "result_random = pd.concat([random_error_y_pred, random_error_y_pred_val, random_error_y_pred_teste], ignore_index=True)\n",
    "result_random"
   ]
  },
  {
   "cell_type": "code",
   "execution_count": null,
   "id": "b060b39a-aacc-454a-811a-a41416eba438",
   "metadata": {},
   "outputs": [],
   "source": []
  },
  {
   "cell_type": "markdown",
   "id": "c7e3c1ba-74de-4ff6-a4aa-b5d1354198d8",
   "metadata": {},
   "source": [
    "# **4.0 Logistic Regression**"
   ]
  },
  {
   "cell_type": "code",
   "execution_count": 62,
   "id": "bf626ac3-2607-4851-b767-3df5a5c673e7",
   "metadata": {},
   "outputs": [
    {
     "data": {
      "image/png": "[encoded data removed]",
      "text/plain": [
       "<Figure size 640x480 with 1 Axes>"
      ]
     },
     "metadata": {},
     "output_type": "display_data"
    }
   ],
   "source": [
    "values = np.arange(100, 3000, 100)\n",
    "val_score = []\n",
    "\n",
    "for i in values:\n",
    "    log_reg = lm.LogisticRegression(max_iter=i, random_state=0)\n",
    "    log_reg.fit(X_train, y_train)\n",
    "    y_pred_val = log_reg.predict(X_val)\n",
    "    acc_val = mt.accuracy_score(y_val, y_pred_val)\n",
    "    val_score.append(acc_val)\n",
    "\n",
    "plt.plot(values, val_score, '-o');"
   ]
  },
  {
   "cell_type": "code",
   "execution_count": 73,
   "id": "e122a7e8-bfbe-4411-b5e3-ccc14f1a496f",
   "metadata": {},
   "outputs": [
    {
     "data": {
      "image/png": "[encoded data removed]",
      "text/plain": [
       "<Figure size 640x480 with 1 Axes>"
      ]
     },
     "metadata": {},
     "output_type": "display_data"
    }
   ],
   "source": [
    "values = np.arange(0.01, 1.0, 0.03)\n",
    "val_score = []\n",
    "\n",
    "for i in values:\n",
    "    log_reg = lm.LogisticRegression(C=i, random_state=0)\n",
    "    log_reg.fit(X_train, y_train)\n",
    "    y_pred_val = log_reg.predict(X_val)\n",
    "    acc_val = mt.accuracy_score(y_val, y_pred_val)\n",
    "    val_score.append(acc_val)\n",
    "\n",
    "plt.plot(values, val_score, '-o');"
   ]
  },
  {
   "cell_type": "code",
   "execution_count": 70,
   "id": "dbabbac1-98c5-46d5-9bc9-442e486b31d4",
   "metadata": {
    "tags": []
   },
   "outputs": [
    {
     "data": {
      "image/png": "[encoded data removed]",
      "text/plain": [
       "<Figure size 640x480 with 1 Axes>"
      ]
     },
     "metadata": {},
     "output_type": "display_data"
    }
   ],
   "source": [
    "values = (['lbfgs', 'liblinear', 'newton-cg', 'newton-cholesky', 'sag', 'saga'])\n",
    "val_score = []\n",
    "\n",
    "for i in values:\n",
    "    log_reg = lm.LogisticRegression(solver=i, random_state=0)\n",
    "    log_reg.fit(X_train, y_train)\n",
    "    y_pred_val = log_reg.predict(X_val)\n",
    "    acc_val = mt.accuracy_score(y_val, y_pred_val)\n",
    "    val_score.append(acc_val)\n",
    "\n",
    "plt.plot(values, val_score, '-o');"
   ]
  },
  {
   "cell_type": "code",
   "execution_count": 76,
   "id": "f56bec9a-0cd9-406a-a4db-1715360076f5",
   "metadata": {
    "tags": []
   },
   "outputs": [
    {
     "data": {
      "text/html": [
       "<div>\n",
       "<style scoped>\n",
       "    .dataframe tbody tr th:only-of-type {\n",
       "        vertical-align: middle;\n",
       "    }\n",
       "\n",
       "    .dataframe tbody tr th {\n",
       "        vertical-align: top;\n",
       "    }\n",
       "\n",
       "    .dataframe thead th {\n",
       "        text-align: right;\n",
       "    }\n",
       "</style>\n",
       "<table border=\"1\" class=\"dataframe\">\n",
       "  <thead>\n",
       "    <tr style=\"text-align: right;\">\n",
       "      <th></th>\n",
       "      <th>Data Type</th>\n",
       "      <th>Model Name</th>\n",
       "      <th>Accuracy</th>\n",
       "      <th>Precision</th>\n",
       "      <th>Recall</th>\n",
       "      <th>F1 Score</th>\n",
       "    </tr>\n",
       "  </thead>\n",
       "  <tbody>\n",
       "    <tr>\n",
       "      <th>0</th>\n",
       "      <td>Training</td>\n",
       "      <td>Logistic Regression</td>\n",
       "      <td>0.876</td>\n",
       "      <td>0.872</td>\n",
       "      <td>0.837</td>\n",
       "      <td>0.854</td>\n",
       "    </tr>\n",
       "    <tr>\n",
       "      <th>1</th>\n",
       "      <td>Validation</td>\n",
       "      <td>Logistic Regression</td>\n",
       "      <td>0.874</td>\n",
       "      <td>0.869</td>\n",
       "      <td>0.836</td>\n",
       "      <td>0.852</td>\n",
       "    </tr>\n",
       "    <tr>\n",
       "      <th>2</th>\n",
       "      <td>Test</td>\n",
       "      <td>Logistic Regression</td>\n",
       "      <td>0.872</td>\n",
       "      <td>0.868</td>\n",
       "      <td>0.835</td>\n",
       "      <td>0.851</td>\n",
       "    </tr>\n",
       "  </tbody>\n",
       "</table>\n",
       "</div>"
      ],
      "text/plain": [
       "    Data Type           Model Name  Accuracy  Precision  Recall  F1 Score\n",
       "0    Training  Logistic Regression     0.876      0.872   0.837     0.854\n",
       "1  Validation  Logistic Regression     0.874      0.869   0.836     0.852\n",
       "2        Test  Logistic Regression     0.872      0.868   0.835     0.851"
      ]
     },
     "execution_count": 76,
     "metadata": {},
     "output_type": "execute_result"
    }
   ],
   "source": [
    "# sobre dados de treinamento:\n",
    "log_reg = lm.LogisticRegression(max_iter=1000, C=0.566, solver='newton-cg', random_state=0)\n",
    "log_reg.fit(X_train, y_train)\n",
    "y_pred = log_reg.predict(X_train)\n",
    "\n",
    "log_error_y_pred = error('Training', 'Logistic Regression', y_train, y_pred)\n",
    "\n",
    "# sobre dados de validação:\n",
    "y_pred_val = log_reg.predict(X_val)\n",
    "\n",
    "log_error_y_pred_val = error('Validation', 'Logistic Regression', y_val, y_pred_val)\n",
    "\n",
    "# sobre dados de teste:\n",
    "log_reg.fit(np.concatenate((X_train, X_val)),\n",
    "            np.concatenate((y_train, y_val)))\n",
    "y_pred_teste = log_reg.predict(X_teste)\n",
    "\n",
    "log_error_y_pred_teste = error('Test', 'Logistic Regression', y_teste, y_pred_teste)\n",
    "\n",
    "\n",
    "result_log = pd.concat([log_error_y_pred, log_error_y_pred_val, log_error_y_pred_teste], ignore_index=True)\n",
    "result_log"
   ]
  },
  {
   "cell_type": "code",
   "execution_count": null,
   "id": "3e62c68d-8d89-42bd-a133-bc2effb38855",
   "metadata": {},
   "outputs": [],
   "source": []
  },
  {
   "cell_type": "code",
   "execution_count": null,
   "id": "5a134adc-e21f-4888-be4c-c334fb063947",
   "metadata": {},
   "outputs": [],
   "source": []
  },
  {
   "cell_type": "markdown",
   "id": "05e3b7f3-bc64-4111-b6eb-5bad4c470993",
   "metadata": {},
   "source": [
    "# **Classificação - Resultado final:**"
   ]
  },
  {
   "cell_type": "code",
   "execution_count": 79,
   "id": "47590c53-0c0e-418a-8277-978c7cf0385f",
   "metadata": {
    "tags": []
   },
   "outputs": [
    {
     "data": {
      "text/html": [
       "<div>\n",
       "<style scoped>\n",
       "    .dataframe tbody tr th:only-of-type {\n",
       "        vertical-align: middle;\n",
       "    }\n",
       "\n",
       "    .dataframe tbody tr th {\n",
       "        vertical-align: top;\n",
       "    }\n",
       "\n",
       "    .dataframe thead th {\n",
       "        text-align: right;\n",
       "    }\n",
       "</style>\n",
       "<table border=\"1\" class=\"dataframe\">\n",
       "  <thead>\n",
       "    <tr style=\"text-align: right;\">\n",
       "      <th></th>\n",
       "      <th>Data Type</th>\n",
       "      <th>Model Name</th>\n",
       "      <th>Accuracy</th>\n",
       "      <th>Precision</th>\n",
       "      <th>Recall</th>\n",
       "      <th>F1 Score</th>\n",
       "    </tr>\n",
       "  </thead>\n",
       "  <tbody>\n",
       "    <tr>\n",
       "      <th>0</th>\n",
       "      <td>Training</td>\n",
       "      <td>K-Nearest Neighbors</td>\n",
       "      <td>0.832</td>\n",
       "      <td>0.812</td>\n",
       "      <td>0.797</td>\n",
       "      <td>0.805</td>\n",
       "    </tr>\n",
       "    <tr>\n",
       "      <th>1</th>\n",
       "      <td>Training</td>\n",
       "      <td>Decision Tree</td>\n",
       "      <td>0.974</td>\n",
       "      <td>0.982</td>\n",
       "      <td>0.959</td>\n",
       "      <td>0.970</td>\n",
       "    </tr>\n",
       "    <tr>\n",
       "      <th>2</th>\n",
       "      <td>Training</td>\n",
       "      <td>Random Forest</td>\n",
       "      <td>1.000</td>\n",
       "      <td>1.000</td>\n",
       "      <td>1.000</td>\n",
       "      <td>1.000</td>\n",
       "    </tr>\n",
       "    <tr>\n",
       "      <th>3</th>\n",
       "      <td>Training</td>\n",
       "      <td>Logistic Regression</td>\n",
       "      <td>0.876</td>\n",
       "      <td>0.872</td>\n",
       "      <td>0.837</td>\n",
       "      <td>0.854</td>\n",
       "    </tr>\n",
       "    <tr>\n",
       "      <th>4</th>\n",
       "      <td>Validation</td>\n",
       "      <td>K-Nearest Neighbors</td>\n",
       "      <td>0.676</td>\n",
       "      <td>0.628</td>\n",
       "      <td>0.621</td>\n",
       "      <td>0.625</td>\n",
       "    </tr>\n",
       "    <tr>\n",
       "      <th>5</th>\n",
       "      <td>Validation</td>\n",
       "      <td>Decision Tree</td>\n",
       "      <td>0.952</td>\n",
       "      <td>0.956</td>\n",
       "      <td>0.932</td>\n",
       "      <td>0.944</td>\n",
       "    </tr>\n",
       "    <tr>\n",
       "      <th>6</th>\n",
       "      <td>Validation</td>\n",
       "      <td>Random Forest</td>\n",
       "      <td>0.965</td>\n",
       "      <td>0.974</td>\n",
       "      <td>0.944</td>\n",
       "      <td>0.959</td>\n",
       "    </tr>\n",
       "    <tr>\n",
       "      <th>7</th>\n",
       "      <td>Validation</td>\n",
       "      <td>Logistic Regression</td>\n",
       "      <td>0.874</td>\n",
       "      <td>0.869</td>\n",
       "      <td>0.836</td>\n",
       "      <td>0.852</td>\n",
       "    </tr>\n",
       "    <tr>\n",
       "      <th>8</th>\n",
       "      <td>Test</td>\n",
       "      <td>K-Nearest Neighbors</td>\n",
       "      <td>0.688</td>\n",
       "      <td>0.648</td>\n",
       "      <td>0.635</td>\n",
       "      <td>0.642</td>\n",
       "    </tr>\n",
       "    <tr>\n",
       "      <th>9</th>\n",
       "      <td>Test</td>\n",
       "      <td>Decision Tree</td>\n",
       "      <td>0.956</td>\n",
       "      <td>0.956</td>\n",
       "      <td>0.943</td>\n",
       "      <td>0.950</td>\n",
       "    </tr>\n",
       "    <tr>\n",
       "      <th>10</th>\n",
       "      <td>Test</td>\n",
       "      <td>Random Forest</td>\n",
       "      <td>0.965</td>\n",
       "      <td>0.973</td>\n",
       "      <td>0.946</td>\n",
       "      <td>0.959</td>\n",
       "    </tr>\n",
       "    <tr>\n",
       "      <th>11</th>\n",
       "      <td>Test</td>\n",
       "      <td>Logistic Regression</td>\n",
       "      <td>0.872</td>\n",
       "      <td>0.868</td>\n",
       "      <td>0.835</td>\n",
       "      <td>0.851</td>\n",
       "    </tr>\n",
       "  </tbody>\n",
       "</table>\n",
       "</div>"
      ],
      "text/plain": [
       "     Data Type           Model Name  Accuracy  Precision  Recall  F1 Score\n",
       "0     Training  K-Nearest Neighbors     0.832      0.812   0.797     0.805\n",
       "1     Training        Decision Tree     0.974      0.982   0.959     0.970\n",
       "2     Training        Random Forest     1.000      1.000   1.000     1.000\n",
       "3     Training  Logistic Regression     0.876      0.872   0.837     0.854\n",
       "4   Validation  K-Nearest Neighbors     0.676      0.628   0.621     0.625\n",
       "5   Validation        Decision Tree     0.952      0.956   0.932     0.944\n",
       "6   Validation        Random Forest     0.965      0.974   0.944     0.959\n",
       "7   Validation  Logistic Regression     0.874      0.869   0.836     0.852\n",
       "8         Test  K-Nearest Neighbors     0.688      0.648   0.635     0.642\n",
       "9         Test        Decision Tree     0.956      0.956   0.943     0.950\n",
       "10        Test        Random Forest     0.965      0.973   0.946     0.959\n",
       "11        Test  Logistic Regression     0.872      0.868   0.835     0.851"
      ]
     },
     "execution_count": 79,
     "metadata": {},
     "output_type": "execute_result"
    }
   ],
   "source": [
    "training = pd.concat([knn_error_y_pred, tree_error_y_pred, random_error_y_pred, log_error_y_pred], ignore_index=True)\n",
    "validation = pd.concat([knn_error_y_pred_val, tree_error_y_pred_val, random_error_y_pred_val, log_error_y_pred_val], ignore_index=True)\n",
    "test = pd.concat([knn_error_y_pred_teste, tree_error_y_pred_teste, random_error_y_pred_teste, log_error_y_pred_teste], ignore_index=True)\n",
    "\n",
    "result = pd.concat([training, validation, test], ignore_index=True).round(3)\n",
    "result"
   ]
  }
 ],
 "metadata": {
  "kernelspec": {
   "display_name": "Python 3 (ipykernel)",
   "language": "python",
   "name": "python3"
  },
  "language_info": {
   "codemirror_mode": {
    "name": "ipython",
    "version": 3
   },
   "file_extension": ".py",
   "mimetype": "text/x-python",
   "name": "python",
   "nbconvert_exporter": "python",
   "pygments_lexer": "ipython3",
   "version": "3.11.5"
  }
 },
 "nbformat": 4,
 "nbformat_minor": 5
}
